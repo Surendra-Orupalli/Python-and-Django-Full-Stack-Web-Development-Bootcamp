{
 "cells": [
  {
   "cell_type": "code",
   "execution_count": null,
   "metadata": {},
   "outputs": [
    {
     "name": "stdout",
     "output_type": "stream",
     "text": [
      "Welcome Code Breaker! Let's see if you can guess my 3 digit number!\n",
      "Code has been generated, please guess a 3 digit number\n"
     ]
    },
    {
     "name": "stdin",
     "output_type": "stream",
     "text": [
      "What is your guess? 123\n"
     ]
    },
    {
     "name": "stdout",
     "output_type": "stream",
     "text": [
      "Here is the result of your guess:\n",
      "Close\n"
     ]
    },
    {
     "name": "stdin",
     "output_type": "stream",
     "text": [
      "What is your guess? 896\n"
     ]
    },
    {
     "name": "stdout",
     "output_type": "stream",
     "text": [
      "Here is the result of your guess:\n",
      "Match\n",
      "Match\n"
     ]
    },
    {
     "name": "stdin",
     "output_type": "stream",
     "text": [
      "What is your guess? 632\n"
     ]
    },
    {
     "name": "stdout",
     "output_type": "stream",
     "text": [
      "Here is the result of your guess:\n",
      "Match\n",
      "Close\n"
     ]
    },
    {
     "name": "stdin",
     "output_type": "stream",
     "text": [
      "What is your guess? 345\n"
     ]
    },
    {
     "name": "stdout",
     "output_type": "stream",
     "text": [
      "Here is the result of your guess:\n",
      "Close\n"
     ]
    },
    {
     "name": "stdin",
     "output_type": "stream",
     "text": [
      "What is your guess? 234\n"
     ]
    },
    {
     "name": "stdout",
     "output_type": "stream",
     "text": [
      "Here is the result of your guess:\n",
      "Match\n"
     ]
    },
    {
     "name": "stdin",
     "output_type": "stream",
     "text": [
      "What is your guess? 789\n"
     ]
    },
    {
     "name": "stdout",
     "output_type": "stream",
     "text": [
      "Here is the result of your guess:\n",
      "Close\n"
     ]
    },
    {
     "name": "stdin",
     "output_type": "stream",
     "text": [
      "What is your guess? 234\n"
     ]
    },
    {
     "name": "stdout",
     "output_type": "stream",
     "text": [
      "Here is the result of your guess:\n",
      "Match\n"
     ]
    },
    {
     "name": "stdin",
     "output_type": "stream",
     "text": [
      "What is your guess? 546\n"
     ]
    },
    {
     "name": "stdout",
     "output_type": "stream",
     "text": [
      "Here is the result of your guess:\n",
      "Match\n"
     ]
    },
    {
     "name": "stdin",
     "output_type": "stream",
     "text": [
      "What is your guess? 965\n"
     ]
    },
    {
     "name": "stdout",
     "output_type": "stream",
     "text": [
      "Here is the result of your guess:\n",
      "Close\n"
     ]
    },
    {
     "name": "stdin",
     "output_type": "stream",
     "text": [
      "What is your guess? 632\n"
     ]
    },
    {
     "name": "stdout",
     "output_type": "stream",
     "text": [
      "Here is the result of your guess:\n",
      "Match\n",
      "Close\n"
     ]
    },
    {
     "name": "stdin",
     "output_type": "stream",
     "text": [
      "What is your guess? 890\n"
     ]
    },
    {
     "name": "stdout",
     "output_type": "stream",
     "text": [
      "Here is the result of your guess:\n",
      "Match\n"
     ]
    },
    {
     "name": "stdin",
     "output_type": "stream",
     "text": [
      "What is your guess? 568\n"
     ]
    },
    {
     "name": "stdout",
     "output_type": "stream",
     "text": [
      "Here is the result of your guess:\n",
      "Close\n",
      "Close\n"
     ]
    },
    {
     "name": "stdin",
     "output_type": "stream",
     "text": [
      "What is your guess? 986\n"
     ]
    },
    {
     "name": "stdout",
     "output_type": "stream",
     "text": [
      "Here is the result of your guess:\n",
      "Close\n",
      "Match\n"
     ]
    },
    {
     "name": "stdin",
     "output_type": "stream",
     "text": [
      "What is your guess? 438\n"
     ]
    },
    {
     "name": "stdout",
     "output_type": "stream",
     "text": [
      "Here is the result of your guess:\n",
      "Close\n",
      "Match\n"
     ]
    },
    {
     "name": "stdin",
     "output_type": "stream",
     "text": [
      "What is your guess? 234\n"
     ]
    },
    {
     "name": "stdout",
     "output_type": "stream",
     "text": [
      "Here is the result of your guess:\n",
      "Match\n"
     ]
    },
    {
     "name": "stdin",
     "output_type": "stream",
     "text": [
      "What is your guess? 123\n"
     ]
    },
    {
     "name": "stdout",
     "output_type": "stream",
     "text": [
      "Here is the result of your guess:\n",
      "Close\n"
     ]
    },
    {
     "name": "stdin",
     "output_type": "stream",
     "text": [
      "What is your guess? 567\n"
     ]
    },
    {
     "name": "stdout",
     "output_type": "stream",
     "text": [
      "Here is the result of your guess:\n",
      "Close\n"
     ]
    },
    {
     "name": "stdin",
     "output_type": "stream",
     "text": [
      "What is your guess? 876\n"
     ]
    },
    {
     "name": "stdout",
     "output_type": "stream",
     "text": [
      "Here is the result of your guess:\n",
      "Match\n",
      "Match\n"
     ]
    }
   ],
   "source": [
    "import random\n",
    "\n",
    "def get_guess():\n",
    "    '''\n",
    "    Asks for the number guess and transforms the string to a list.\n",
    "    '''\n",
    "    return list(input(\"What is your guess?\"))\n",
    "\n",
    "def generate_code():\n",
    "    '''\n",
    "    generates a 3 digit list for the code\n",
    "    '''\n",
    "    digits = [str(num) for num in range(10)]\n",
    "    random.shuffle(digits)\n",
    "    return digits[:3]\n",
    "\n",
    "def generate_clues(code,userGuess):\n",
    "    '''\n",
    "    Takes in a user guess and code then compares the numbers in a loop and\n",
    "    creates a list of clues according to the matching parameters.\n",
    "    '''\n",
    "    if userGuess == code:\n",
    "        return \"CODE CRACKED\"\n",
    "\n",
    "    clues = []\n",
    "\n",
    "    # Compare guess to code\n",
    "    for ind,num in enumerate(userGuess):\n",
    "        if num == code[ind]:\n",
    "            clues.append(\"Match\")\n",
    "        elif num in code:\n",
    "            clues.append(\"Close\")\n",
    "    if clues == []:\n",
    "        return [\"Nope\"]\n",
    "    else:\n",
    "        return clues\n",
    "\n",
    "# Run Game\n",
    "print(\"Welcome Code Breaker! Let's see if you can guess my 3 digit number!\")\n",
    "\n",
    "# Create a Secret Code to start the Game\n",
    "secretCode = generate_code()\n",
    "print(\"Code has been generated, please guess a 3 digit number\")\n",
    "#print(secretCode)\n",
    "\n",
    "# Empty Clue Report to Start with\n",
    "clueReport = []\n",
    "\n",
    "# Keep asking until the user has gotten it right!\n",
    "while clueReport != \"CODE CRACKED\":\n",
    "\n",
    "    # Ask for guess\n",
    "    guess = get_guess()\n",
    "\n",
    "    # Give the clues\n",
    "    clueReport = generate_clues(guess,secretCode)\n",
    "    print(\"Here is the result of your guess:\")\n",
    "    for clue in clueReport:\n",
    "        print(clue)\n"
   ]
  },
  {
   "cell_type": "code",
   "execution_count": null,
   "metadata": {},
   "outputs": [],
   "source": []
  }
 ],
 "metadata": {
  "kernelspec": {
   "display_name": "Python 3",
   "language": "python",
   "name": "python3"
  },
  "language_info": {
   "codemirror_mode": {
    "name": "ipython",
    "version": 3
   },
   "file_extension": ".py",
   "mimetype": "text/x-python",
   "name": "python",
   "nbconvert_exporter": "python",
   "pygments_lexer": "ipython3",
   "version": "3.6.8"
  }
 },
 "nbformat": 4,
 "nbformat_minor": 2
}
